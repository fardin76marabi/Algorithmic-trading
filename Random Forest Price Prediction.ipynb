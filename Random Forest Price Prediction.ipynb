{
 "cells": [
  {
   "cell_type": "code",
   "execution_count": 1,
   "id": "bb7d37ec",
   "metadata": {},
   "outputs": [],
   "source": [
    "# description:\n",
    "# this program attempt to predict the future price of a stock"
   ]
  },
  {
   "cell_type": "code",
   "execution_count": 4,
   "id": "54de837f",
   "metadata": {},
   "outputs": [],
   "source": [
    "# import the libraries \n",
    "import pandas as pd\n",
    "import numpy as np\n",
    "from sklearn.ensemble import RandomForestRegressor\n",
    "import matplotlib.pyplot as plt\n",
    "import yfinance as yf"
   ]
  },
  {
   "cell_type": "code",
   "execution_count": null,
   "id": "3ed88bd5",
   "metadata": {},
   "outputs": [],
   "source": []
  },
  {
   "cell_type": "code",
   "execution_count": 12,
   "id": "55ff16b4",
   "metadata": {},
   "outputs": [
    {
     "name": "stderr",
     "output_type": "stream",
     "text": [
      "C:\\Users\\fardi\\AppData\\Local\\Temp\\ipykernel_6408\\1147762826.py:2: FutureWarning: YF.download() has changed argument auto_adjust default to True\n",
      "  df=yf.download('AAPL',start='2020-01-01',end='2024-01-01')\n",
      "[*********************100%***********************]  1 of 1 completed\n"
     ]
    },
    {
     "data": {
      "text/html": [
       "<div>\n",
       "<style scoped>\n",
       "    .dataframe tbody tr th:only-of-type {\n",
       "        vertical-align: middle;\n",
       "    }\n",
       "\n",
       "    .dataframe tbody tr th {\n",
       "        vertical-align: top;\n",
       "    }\n",
       "\n",
       "    .dataframe thead th {\n",
       "        text-align: right;\n",
       "    }\n",
       "</style>\n",
       "<table border=\"1\" class=\"dataframe\">\n",
       "  <thead>\n",
       "    <tr style=\"text-align: right;\">\n",
       "      <th>Price</th>\n",
       "      <th>Date</th>\n",
       "      <th>Close</th>\n",
       "      <th>High</th>\n",
       "      <th>Low</th>\n",
       "      <th>Open</th>\n",
       "      <th>Volume</th>\n",
       "    </tr>\n",
       "  </thead>\n",
       "  <tbody>\n",
       "    <tr>\n",
       "      <th>0</th>\n",
       "      <td>2020-01-02</td>\n",
       "      <td>72.620857</td>\n",
       "      <td>72.681304</td>\n",
       "      <td>71.373233</td>\n",
       "      <td>71.627107</td>\n",
       "      <td>135480400</td>\n",
       "    </tr>\n",
       "    <tr>\n",
       "      <th>1</th>\n",
       "      <td>2020-01-03</td>\n",
       "      <td>71.914810</td>\n",
       "      <td>72.676439</td>\n",
       "      <td>71.689950</td>\n",
       "      <td>71.847110</td>\n",
       "      <td>146322800</td>\n",
       "    </tr>\n",
       "    <tr>\n",
       "      <th>2</th>\n",
       "      <td>2020-01-06</td>\n",
       "      <td>72.487854</td>\n",
       "      <td>72.526541</td>\n",
       "      <td>70.783256</td>\n",
       "      <td>71.034717</td>\n",
       "      <td>118387200</td>\n",
       "    </tr>\n",
       "    <tr>\n",
       "      <th>3</th>\n",
       "      <td>2020-01-07</td>\n",
       "      <td>72.146942</td>\n",
       "      <td>72.753823</td>\n",
       "      <td>71.926915</td>\n",
       "      <td>72.497529</td>\n",
       "      <td>108872000</td>\n",
       "    </tr>\n",
       "    <tr>\n",
       "      <th>4</th>\n",
       "      <td>2020-01-08</td>\n",
       "      <td>73.307495</td>\n",
       "      <td>73.609729</td>\n",
       "      <td>71.849518</td>\n",
       "      <td>71.849518</td>\n",
       "      <td>132079200</td>\n",
       "    </tr>\n",
       "    <tr>\n",
       "      <th>...</th>\n",
       "      <td>...</td>\n",
       "      <td>...</td>\n",
       "      <td>...</td>\n",
       "      <td>...</td>\n",
       "      <td>...</td>\n",
       "      <td>...</td>\n",
       "    </tr>\n",
       "    <tr>\n",
       "      <th>1001</th>\n",
       "      <td>2023-12-22</td>\n",
       "      <td>192.192551</td>\n",
       "      <td>193.989390</td>\n",
       "      <td>191.567126</td>\n",
       "      <td>193.761051</td>\n",
       "      <td>37149600</td>\n",
       "    </tr>\n",
       "    <tr>\n",
       "      <th>1002</th>\n",
       "      <td>2023-12-26</td>\n",
       "      <td>191.646545</td>\n",
       "      <td>192.480435</td>\n",
       "      <td>191.428144</td>\n",
       "      <td>192.202472</td>\n",
       "      <td>28919300</td>\n",
       "    </tr>\n",
       "    <tr>\n",
       "      <th>1003</th>\n",
       "      <td>2023-12-27</td>\n",
       "      <td>191.745819</td>\n",
       "      <td>192.093281</td>\n",
       "      <td>189.700797</td>\n",
       "      <td>191.090629</td>\n",
       "      <td>48087700</td>\n",
       "    </tr>\n",
       "    <tr>\n",
       "      <th>1004</th>\n",
       "      <td>2023-12-28</td>\n",
       "      <td>192.172699</td>\n",
       "      <td>193.244849</td>\n",
       "      <td>191.765676</td>\n",
       "      <td>192.728625</td>\n",
       "      <td>34049900</td>\n",
       "    </tr>\n",
       "    <tr>\n",
       "      <th>1005</th>\n",
       "      <td>2023-12-29</td>\n",
       "      <td>191.130341</td>\n",
       "      <td>192.986741</td>\n",
       "      <td>190.336153</td>\n",
       "      <td>192.490376</td>\n",
       "      <td>42672100</td>\n",
       "    </tr>\n",
       "  </tbody>\n",
       "</table>\n",
       "<p>1006 rows × 6 columns</p>\n",
       "</div>"
      ],
      "text/plain": [
       "Price       Date       Close        High         Low        Open     Volume\n",
       "0     2020-01-02   72.620857   72.681304   71.373233   71.627107  135480400\n",
       "1     2020-01-03   71.914810   72.676439   71.689950   71.847110  146322800\n",
       "2     2020-01-06   72.487854   72.526541   70.783256   71.034717  118387200\n",
       "3     2020-01-07   72.146942   72.753823   71.926915   72.497529  108872000\n",
       "4     2020-01-08   73.307495   73.609729   71.849518   71.849518  132079200\n",
       "...          ...         ...         ...         ...         ...        ...\n",
       "1001  2023-12-22  192.192551  193.989390  191.567126  193.761051   37149600\n",
       "1002  2023-12-26  191.646545  192.480435  191.428144  192.202472   28919300\n",
       "1003  2023-12-27  191.745819  192.093281  189.700797  191.090629   48087700\n",
       "1004  2023-12-28  192.172699  193.244849  191.765676  192.728625   34049900\n",
       "1005  2023-12-29  191.130341  192.986741  190.336153  192.490376   42672100\n",
       "\n",
       "[1006 rows x 6 columns]"
      ]
     },
     "execution_count": 12,
     "metadata": {},
     "output_type": "execute_result"
    }
   ],
   "source": [
    "# Collect and Clean the data\n",
    "df=yf.download('AAPL',start='2020-01-01',end='2024-01-01')\n",
    "df.columns = df.columns.droplevel(1)  # deleting multi-index \n",
    "df = df.reset_index() # turn date as a index to a column\n",
    "\n",
    "df=df.dropna()\n",
    "df"
   ]
  },
  {
   "cell_type": "code",
   "execution_count": 13,
   "id": "1c22cb79",
   "metadata": {},
   "outputs": [
    {
     "data": {
      "text/plain": [
       "(array([18262., 18444., 18628., 18809., 18993., 19174., 19358., 19539.,\n",
       "        19723.]),\n",
       " [Text(0, 0, ''),\n",
       "  Text(0, 0, ''),\n",
       "  Text(0, 0, ''),\n",
       "  Text(0, 0, ''),\n",
       "  Text(0, 0, ''),\n",
       "  Text(0, 0, ''),\n",
       "  Text(0, 0, ''),\n",
       "  Text(0, 0, ''),\n",
       "  Text(0, 0, '')])"
      ]
     },
     "execution_count": 13,
     "metadata": {},
     "output_type": "execute_result"
    },
    {
     "data": {
      "image/png": "[encoded data removed]",
      "text/plain": [
       "<Figure size 432x288 with 1 Axes>"
      ]
     },
     "metadata": {
      "needs_background": "light"
     },
     "output_type": "display_data"
    }
   ],
   "source": [
    "# show the data visually \n",
    "df.plot(x=\"Date\",y=\"Close\")\n",
    "plt.xticks(rotation=45)"
   ]
  },
  {
   "cell_type": "code",
   "execution_count": 14,
   "id": "e9691644",
   "metadata": {},
   "outputs": [],
   "source": [
    "# create the model\n",
    "model=RandomForestRegressor()"
   ]
  },
  {
   "cell_type": "code",
   "execution_count": 18,
   "id": "c764eda7",
   "metadata": {},
   "outputs": [
    {
     "data": {
      "text/plain": [
       "RandomForestRegressor()"
      ]
     },
     "execution_count": 18,
     "metadata": {},
     "output_type": "execute_result"
    }
   ],
   "source": [
    "# train the model\n",
    "X=df[['Open','High','Low','Volume']]\n",
    "X=X[:int(len(df)-1)]\n",
    "y=df['Close']\n",
    "y=y[:int(len(df)-1)]\n",
    "\n",
    "model.fit(X,y)"
   ]
  },
  {
   "cell_type": "code",
   "execution_count": 19,
   "id": "47d16529",
   "metadata": {},
   "outputs": [
    {
     "name": "stdout",
     "output_type": "stream",
     "text": [
      "The model score is  0.9998059220326038\n"
     ]
    }
   ],
   "source": [
    "# test the model \n",
    "predictions=model.predict(X)\n",
    "print('The model score is ',model.score(X,y))"
   ]
  },
  {
   "cell_type": "code",
   "execution_count": 24,
   "id": "4081030e",
   "metadata": {},
   "outputs": [
    {
     "name": "stdout",
     "output_type": "stream",
     "text": [
      "the model predicts the last row to be:  [191.16466324]\n",
      "Actual value is : [[191.13034058]]\n"
     ]
    }
   ],
   "source": [
    "# make the prediction\n",
    "new_data=df[['Open','High','Low','Volume']].tail(1)\n",
    "prediction=model.predict(new_data)\n",
    "print(\"the model predicts the last row to be: \",prediction)\n",
    "print(\"Actual value is :\",df[['Close']].tail(1).values)"
   ]
  },
  {
   "cell_type": "code",
   "execution_count": null,
   "id": "a61856b5",
   "metadata": {},
   "outputs": [],
   "source": []
  }
 ],
 "metadata": {
  "kernelspec": {
   "display_name": "Python 3 (ipykernel)",
   "language": "python",
   "name": "python3"
  },
  "language_info": {
   "codemirror_mode": {
    "name": "ipython",
    "version": 3
   },
   "file_extension": ".py",
   "mimetype": "text/x-python",
   "name": "python",
   "nbconvert_exporter": "python",
   "pygments_lexer": "ipython3",
   "version": "3.9.12"
  }
 },
 "nbformat": 4,
 "nbformat_minor": 5
}
